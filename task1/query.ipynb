{
 "cells": [
  {
   "cell_type": "code",
   "execution_count": 6,
   "metadata": {},
   "outputs": [
    {
     "name": "stdout",
     "output_type": "stream",
     "text": [
      "Wendy Lucas - Total Orders: 2\n",
      "Wayne Hunt - Total Orders: 1\n",
      "Amy Peterson - Total Orders: 1\n",
      "Adrienne Allen - Total Orders: 4\n",
      "Christine Robles - Total Orders: 3\n",
      "Mark Rodgers - Total Orders: 1\n",
      "Randy Allen - Total Orders: 1\n"
     ]
    }
   ],
   "source": [
    "import sqlite3\n",
    "\n",
    "# Function to run the SQL query\n",
    "def run_sql_query():\n",
    "    # Connect to SQLite database\n",
    "    conn = sqlite3.connect('test.db')\n",
    "    cursor = conn.cursor()\n",
    "\n",
    "    # SQL query\n",
    "    sql_query = '''\n",
    "        SELECT\n",
    "            u.name,\n",
    "            COUNT(o.order_id) AS total_orders\n",
    "        FROM\n",
    "            users u\n",
    "        JOIN\n",
    "            orders o ON u.user_id = o.user_id\n",
    "        WHERE\n",
    "            o.order_date >= DATE('now', '-30 days')\n",
    "        GROUP BY\n",
    "            u.user_id, u.name;\n",
    "    '''\n",
    "\n",
    "    # Execute the query\n",
    "    cursor.execute(sql_query)\n",
    "\n",
    "    # Fetch and print the results\n",
    "    results = cursor.fetchall()\n",
    "    for row in results:\n",
    "        print(f\"{row[0]} - Total Orders: {row[1]}\")\n",
    "\n",
    "    # Close connection\n",
    "    conn.close()\n",
    "\n",
    "# Run the function to execute the SQL query\n",
    "run_sql_query()\n"
   ]
  },
  {
   "cell_type": "code",
   "execution_count": null,
   "metadata": {},
   "outputs": [],
   "source": []
  }
 ],
 "metadata": {
  "kernelspec": {
   "display_name": "Python 3",
   "language": "python",
   "name": "python3"
  },
  "language_info": {
   "codemirror_mode": {
    "name": "ipython",
    "version": 3
   },
   "file_extension": ".py",
   "mimetype": "text/x-python",
   "name": "python",
   "nbconvert_exporter": "python",
   "pygments_lexer": "ipython3",
   "version": "3.9.13"
  }
 },
 "nbformat": 4,
 "nbformat_minor": 2
}
