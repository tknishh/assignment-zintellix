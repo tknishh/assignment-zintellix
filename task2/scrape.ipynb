{
 "cells": [
  {
   "cell_type": "code",
   "execution_count": 1,
   "metadata": {},
   "outputs": [
    {
     "name": "stdout",
     "output_type": "stream",
     "text": [
      "503\n",
      "An error occurred while fetching the website: 503 Server Error: Service Unavailable for url: https://www.amazon.in/s?k=gaming+chair&ref=nb_sb_noss\n",
      "No products found on this page.\n"
     ]
    }
   ],
   "source": [
    "import requests\n",
    "from bs4 import BeautifulSoup\n",
    "\n",
    "def scrape_product_info(url):\n",
    "    \"\"\"Scrapes product information from the given URL using BeautifulSoup.\n",
    "\n",
    "    Args:\n",
    "        url (str): The URL of the website to scrape.\n",
    "\n",
    "    Returns:\n",
    "        list: A list of dictionaries containing product information,\n",
    "              or an empty list if no products are found.\n",
    "    \"\"\"\n",
    "\n",
    "    try:\n",
    "        response = requests.get(url)\n",
    "        print(response.status_code)\n",
    "        response.raise_for_status()  # Raise an exception for non-200 status codes\n",
    "\n",
    "        soup = BeautifulSoup(response.content, 'html.parser')\n",
    "\n",
    "        # Improved product element selection based on potential class variations\n",
    "        product_elements = soup.find_all('div', class_=lambda class_name: class_name and 's-product-grid' in class_name)\n",
    "\n",
    "        products = []\n",
    "        for product_element in product_elements:\n",
    "            product_info = {}\n",
    "\n",
    "            # Extract product name (considering variations in element structure)\n",
    "            name_element = product_element.find('span', class_=lambda class_name: class_name and 'a-size-mini' in class_name)\n",
    "            if name_element:\n",
    "                product_info['Name'] = name_element.text.strip()\n",
    "            else:\n",
    "                name_element = product_element.find('h2', class_=lambda class_name: class_name and 'a-size-base' in class_name)\n",
    "                if name_element:\n",
    "                    product_info['Name'] = name_element.text.strip()\n",
    "\n",
    "            # Extract price (considering variations in element structure and potential absence)\n",
    "            price_element = product_element.find('span', class_=lambda class_name: class_name and 'a-price-whole' in class_name)\n",
    "            if price_element:\n",
    "                product_info['Price'] = price_element.text.strip()\n",
    "            else:\n",
    "                # Handle potential absence of price information gracefully\n",
    "                product_info['Price'] = 'Not available'\n",
    "\n",
    "            # Extract rating (considering variations in element structure and potential absence)\n",
    "            rating_element = product_element.find('span', class_=lambda class_name: class_name and 'a-star-average' in class_name)\n",
    "            if rating_element:\n",
    "                rating_text = rating_element.get('aria-label')\n",
    "                if rating_text:\n",
    "                    try:\n",
    "                        # Extract numerical rating from aria-label (e.g., \"Out of 5 stars\")\n",
    "                        rating = float(rating_text.split()[0])\n",
    "                        product_info['Rating'] = rating\n",
    "                    except ValueError:\n",
    "                        pass  # Handle potential non-numerical rating formats\n",
    "            else:\n",
    "                product_info['Rating'] = 'Not available'\n",
    "\n",
    "            products.append(product_info)\n",
    "\n",
    "        return products\n",
    "\n",
    "    except requests.exceptions.RequestException as e:\n",
    "        print(f\"An error occurred while fetching the website: {e}\")\n",
    "        return []\n",
    "\n",
    "\n",
    "if __name__ == '__main__':\n",
    "    url = 'https://www.amazon.in/s?k=gaming+chair&ref=nb_sb_noss'\n",
    "    products = scrape_product_info(url)\n",
    "\n",
    "    if products:\n",
    "        for i, product in enumerate(products, start=1):\n",
    "            print(f\"\\nProduct {i}:\")\n",
    "            for key, value in product.items():\n",
    "                print(f\"{key}: {value}\")\n",
    "    else:\n",
    "        print(\"No products found on this page.\")"
   ]
  },
  {
   "cell_type": "code",
   "execution_count": 25,
   "metadata": {},
   "outputs": [
    {
     "data": {
      "text/plain": [
       "<Response [503]>"
      ]
     },
     "execution_count": 25,
     "metadata": {},
     "output_type": "execute_result"
    }
   ],
   "source": [
    "requests.get('https://www.amazon.in/s?k=gaming+chair&ref=nb_sb_noss')"
   ]
  },
  {
   "cell_type": "code",
   "execution_count": 21,
   "metadata": {},
   "outputs": [],
   "source": [
    "import requests\n",
    "from bs4 import BeautifulSoup\n",
    "\n",
    "# Step 2: Send an HTTP GET request to the URL\n",
    "url = \"https://www.flipkart.com/search?q=gaming%20chair&otracker=search&otracker1=search&marketplace=FLIPKART&as-show=on&as=off\"\n",
    "response = requests.get(url)\n",
    "\n",
    "# Check if the request was successful (status code 200)\n",
    "if response.status_code == 200:\n",
    "    # Step 3: Create a BeautifulSoup object and parse the HTML content\n",
    "    soup = BeautifulSoup(response.text, 'html.parser')\n",
    "\n",
    "    # Step 4: Find and extract the list of products, prices, and ratings\n",
    "    products = soup.find_all('div', class_='s-title-instructions-bold')\n",
    "    prices = soup.find_all('span', class_='a-offscreen')\n",
    "    ratings = soup.find_all('span', class_='a-declarative')\n",
    "\n",
    "    # Step 5: Organize the extracted information into a structured format\n",
    "    product_info = []\n",
    "    for i in range(len(products)):\n",
    "        product_name = products[i].get_text(strip=True)\n",
    "        product_price = prices[i].get_text(strip=True)\n",
    "        product_rating = ratings[i].get_text(strip=True) if i < len(ratings) else 'N/A'\n",
    "\n",
    "        product_info.append({\n",
    "            'Name': product_name,\n",
    "            'Price': product_price,\n",
    "            'Rating': product_rating\n",
    "        })\n",
    "\n",
    "    # Step 6: Print the organized information for each product\n",
    "    for i, product in enumerate(product_info, start=1):\n",
    "        print(f\"Product {i}:\")\n",
    "        print(f\"Name: {product['Name']}\")\n",
    "        print(f\"Price: {product['Price']}\")\n",
    "        print(f\"Rating: {product['Rating']}\")\n",
    "        print()\n",
    "\n",
    "else:\n",
    "    print(f\"Failed to retrieve the webpage. Status Code: {response.status_code}\")\n"
   ]
  },
  {
   "cell_type": "code",
   "execution_count": null,
   "metadata": {},
   "outputs": [],
   "source": []
  }
 ],
 "metadata": {
  "kernelspec": {
   "display_name": "Python 3",
   "language": "python",
   "name": "python3"
  },
  "language_info": {
   "codemirror_mode": {
    "name": "ipython",
    "version": 3
   },
   "file_extension": ".py",
   "mimetype": "text/x-python",
   "name": "python",
   "nbconvert_exporter": "python",
   "pygments_lexer": "ipython3",
   "version": "3.9.13"
  }
 },
 "nbformat": 4,
 "nbformat_minor": 2
}
